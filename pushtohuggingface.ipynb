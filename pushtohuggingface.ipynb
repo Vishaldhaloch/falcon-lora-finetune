{
 "cells": [
  {
   "cell_type": "code",
   "execution_count": null,
   "id": "b4ea960e",
   "metadata": {},
   "outputs": [],
   "source": [
    "from huggingface_hub import login\n",
    "\n",
    "# Use your actual token\n",
    "login(\" \")               #use your own hf token\n"
   ]
  },
  {
   "cell_type": "code",
   "execution_count": null,
   "id": "6589b00f",
   "metadata": {},
   "outputs": [],
   "source": [
    "from transformers import AutoModelForCausalLM, AutoTokenizer\n",
    "from peft import PeftModel, PeftConfig\n",
    "\n",
    "# Folder where your adapter_config.json and adapter_model.safetensors exist\n",
    "adapter_path = \"falcon_lora_output\"\n",
    "\n",
    "# Name of your Hugging Face repo (must be lowercase, no spaces)\n",
    "repo_id = \"vishal1d/falcon-lora-imdb\"  # replace \"your-username\"!\n"
   ]
  },
  {
   "cell_type": "code",
   "execution_count": 8,
   "id": "d230893d",
   "metadata": {},
   "outputs": [],
   "source": [
    "# Load LoRA adapter config\n",
    "peft_config = PeftConfig.from_pretrained(adapter_path)\n",
    "\n",
    "# Load base model\n",
    "base_model = AutoModelForCausalLM.from_pretrained(\n",
    "    peft_config.base_model_name_or_path,\n",
    "    trust_remote_code=True\n",
    ")\n",
    "\n",
    "# Load adapter on top of base model\n",
    "model = PeftModel.from_pretrained(base_model, adapter_path)\n"
   ]
  },
  {
   "cell_type": "code",
   "execution_count": 9,
   "id": "2470cd37",
   "metadata": {},
   "outputs": [
    {
     "name": "stderr",
     "output_type": "stream",
     "text": [
      "adapter_model.safetensors: 100%|██████████| 6.30M/6.30M [00:01<00:00, 3.18MB/s]\n"
     ]
    },
    {
     "data": {
      "text/plain": [
       "CommitInfo(commit_url='https://huggingface.co/sudhanshukumar/falcon-lora-imdb/commit/6f0ff9666473420a40255fa2f150692ca4991800', commit_message='Upload model', commit_description='', oid='6f0ff9666473420a40255fa2f150692ca4991800', pr_url=None, repo_url=RepoUrl('https://huggingface.co/sudhanshukumar/falcon-lora-imdb', endpoint='https://huggingface.co', repo_type='model', repo_id='sudhanshukumar/falcon-lora-imdb'), pr_revision=None, pr_num=None)"
      ]
     },
     "execution_count": 9,
     "metadata": {},
     "output_type": "execute_result"
    }
   ],
   "source": [
    "model.push_to_hub(repo_id)\n"
   ]
  },
  {
   "cell_type": "code",
   "execution_count": null,
   "id": "561e4c8c",
   "metadata": {},
   "outputs": [],
   "source": []
  }
 ],
 "metadata": {
  "kernelspec": {
   "display_name": "finetuning",
   "language": "python",
   "name": "python3"
  },
  "language_info": {
   "codemirror_mode": {
    "name": "ipython",
    "version": 3
   },
   "file_extension": ".py",
   "mimetype": "text/x-python",
   "name": "python",
   "nbconvert_exporter": "python",
   "pygments_lexer": "ipython3",
   "version": "3.10.18"
  }
 },
 "nbformat": 4,
 "nbformat_minor": 5
}
